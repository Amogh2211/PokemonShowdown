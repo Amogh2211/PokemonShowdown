{
 "cells": [
  {
   "cell_type": "code",
   "execution_count": 1,
   "metadata": {
    "scrolled": true
   },
   "outputs": [
    {
     "name": "stdout",
     "output_type": "stream",
     "text": [
      "Requirement already satisfied: poke-env in c:\\users\\amogh\\anaconda3\\lib\\site-packages (0.5.0)\n",
      "Requirement already satisfied: websockets>=8.0 in c:\\users\\amogh\\anaconda3\\lib\\site-packages (from poke-env) (10.3)\n",
      "Requirement already satisfied: numpy in c:\\users\\amogh\\anaconda3\\lib\\site-packages (from poke-env) (1.18.5)\n",
      "Requirement already satisfied: orjson in c:\\users\\amogh\\anaconda3\\lib\\site-packages (from poke-env) (3.8.7)\n",
      "Requirement already satisfied: requests in c:\\users\\amogh\\anaconda3\\lib\\site-packages (from poke-env) (2.24.0)\n",
      "Requirement already satisfied: gym in c:\\users\\amogh\\anaconda3\\lib\\site-packages (from poke-env) (0.26.2)\n",
      "Requirement already satisfied: tabulate in c:\\users\\amogh\\anaconda3\\lib\\site-packages (from poke-env) (0.9.0)\n",
      "Requirement already satisfied: urllib3!=1.25.0,!=1.25.1,<1.26,>=1.21.1 in c:\\users\\amogh\\anaconda3\\lib\\site-packages (from requests->poke-env) (1.25.9)\n",
      "Requirement already satisfied: idna<3,>=2.5 in c:\\users\\amogh\\anaconda3\\lib\\site-packages (from requests->poke-env) (2.10)\n",
      "Requirement already satisfied: chardet<4,>=3.0.2 in c:\\users\\amogh\\anaconda3\\lib\\site-packages (from requests->poke-env) (3.0.4)\n",
      "Requirement already satisfied: certifi>=2017.4.17 in c:\\users\\amogh\\anaconda3\\lib\\site-packages (from requests->poke-env) (2020.6.20)\n",
      "Requirement already satisfied: importlib-metadata>=4.8.0; python_version < \"3.10\" in c:\\users\\amogh\\anaconda3\\lib\\site-packages (from gym->poke-env) (6.0.0)\n",
      "Requirement already satisfied: gym-notices>=0.0.4 in c:\\users\\amogh\\anaconda3\\lib\\site-packages (from gym->poke-env) (0.0.8)\n",
      "Requirement already satisfied: cloudpickle>=1.2.0 in c:\\users\\amogh\\anaconda3\\lib\\site-packages (from gym->poke-env) (1.5.0)\n",
      "Requirement already satisfied: zipp>=0.5 in c:\\users\\amogh\\anaconda3\\lib\\site-packages (from importlib-metadata>=4.8.0; python_version < \"3.10\"->gym->poke-env) (3.1.0)\n",
      "Note: you may need to restart the kernel to use updated packages.\n"
     ]
    }
   ],
   "source": [
    "pip install poke-env"
   ]
  },
  {
   "cell_type": "code",
   "execution_count": 2,
   "metadata": {},
   "outputs": [
    {
     "name": "stdout",
     "output_type": "stream",
     "text": [
      "Requirement already satisfied: nest-asyncio in c:\\users\\amogh\\anaconda3\\lib\\site-packages (1.5.6)\n",
      "Note: you may need to restart the kernel to use updated packages.\n"
     ]
    }
   ],
   "source": [
    "pip install nest-asyncio"
   ]
  },
  {
   "cell_type": "markdown",
   "metadata": {},
   "source": [
    "# Imports and ServerConfig"
   ]
  },
  {
   "cell_type": "code",
   "execution_count": 4,
   "metadata": {},
   "outputs": [],
   "source": [
    "import asyncio\n",
    "import nest_asyncio\n",
    "nest_asyncio.apply()\n",
    "import time\n",
    "from poke_env import PlayerConfiguration\n",
    "from poke_env import ServerConfiguration\n",
    "from poke_env.player import Player, RandomPlayer\n",
    "from tabulate import tabulate\n",
    "\n",
    "myServerConfig = ServerConfiguration(\"my.custom.host:5432\", \"authentication-endpoint.com/action.php?\")\n",
    "\n",
    "myPlayerConfig = PlayerConfiguration(\"cr0nch\", None)"
   ]
  },
  {
   "cell_type": "markdown",
   "metadata": {},
   "source": [
    "# Basic Player Config"
   ]
  },
  {
   "cell_type": "code",
   "execution_count": 5,
   "metadata": {},
   "outputs": [],
   "source": [
    "#class YourFirstAgent(Player):\n",
    "#    def choose_move(self, battle):\n",
    "#        for move in battle.available_moves:\n",
    "#            if move.base_power > 90:\n",
    "#                # A powerful move! Let's use it\n",
    "#                return self.create_order(move)\n",
    "\n",
    "        # No available move? Let's switch then!\n",
    "#        for switch in battle.available_switches:\n",
    "#            if switch.current_hp_fraction > battle.active_pokemon.current_hp_fraction:\n",
    "#                # This other pokemon has more HP left... Let's switch it in?\n",
    "#                return self.create_order(switch)\n",
    "\n",
    "        # Not sure what to do?\n",
    "#        return self.choose_random_move(battle)"
   ]
  },
  {
   "cell_type": "code",
   "execution_count": 6,
   "metadata": {},
   "outputs": [],
   "source": [
    "### MAX DAMAGE PLAYER\n",
    "\n",
    "class MaxDamagePlayer(Player):\n",
    "    def choose_move(self, battle):\n",
    "        if battle.available_moves:\n",
    "            best = max(battle.available_moves, key = lambda move: move.base_power)\n",
    "            return self.create_order(best)\n",
    "        else: return self.choose_random_move(battle)"
   ]
  },
  {
   "cell_type": "code",
   "execution_count": 8,
   "metadata": {},
   "outputs": [
    {
     "name": "stdout",
     "output_type": "stream",
     "text": [
      "Max agent won 8 / 10 battles, time taken = 5.526960\n"
     ]
    }
   ],
   "source": [
    "async def main():\n",
    "    start = time.time()\n",
    "    \n",
    "    #Create Two Players\n",
    "    \n",
    "    random_player = RandomPlayer(battle_format = \"gen8randombattle\",)\n",
    "    \n",
    "    max_damage_player = MaxDamagePlayer(battle_format = \"gen8randombattle\",)\n",
    "    \n",
    "    # EVAULUATE AGENTS\n",
    "    await max_damage_player.battle_against(random_player, n_battles = 10)\n",
    "    \n",
    "    print(\"Max agent won %d / 10 battles, time taken = %f\" %(max_damage_player.n_won_battles, time.time() - start))\n",
    "\n",
    "    \n",
    "if __name__ == \"__main__\":\n",
    "    asyncio.get_event_loop().run_until_complete(main())"
   ]
  },
  {
   "cell_type": "code",
   "execution_count": null,
   "metadata": {},
   "outputs": [],
   "source": []
  }
 ],
 "metadata": {
  "kernelspec": {
   "display_name": "Python 3",
   "language": "python",
   "name": "python3"
  },
  "language_info": {
   "codemirror_mode": {
    "name": "ipython",
    "version": 3
   },
   "file_extension": ".py",
   "mimetype": "text/x-python",
   "name": "python",
   "nbconvert_exporter": "python",
   "pygments_lexer": "ipython3",
   "version": "3.8.3"
  }
 },
 "nbformat": 4,
 "nbformat_minor": 4
}
