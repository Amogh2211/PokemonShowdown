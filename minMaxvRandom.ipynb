{
 "cells": [
  {
   "cell_type": "code",
   "execution_count": null,
   "metadata": {
    "scrolled": true
   },
   "outputs": [],
   "source": []
  },
  {
   "cell_type": "code",
   "execution_count": null,
   "metadata": {},
   "outputs": [],
   "source": []
  },
  {
   "cell_type": "markdown",
   "metadata": {},
   "source": [
    "# Imports and ServerConfig"
   ]
  },
  {
   "cell_type": "code",
   "execution_count": 1,
   "metadata": {},
   "outputs": [],
   "source": [
    "import asyncio\n",
    "import nest_asyncio\n",
    "nest_asyncio.apply()\n",
    "import time\n",
    "from poke_env import PlayerConfiguration\n",
    "from poke_env import ServerConfiguration\n",
    "from poke_env.player import Player, RandomPlayer\n",
    "from tabulate import tabulate\n",
    "\n",
    "myServerConfig = ServerConfiguration(\"my.custom.host:5432\", \"authentication-endpoint.com/action.php?\")\n",
    "\n",
    "myPlayerConfig = PlayerConfiguration(\"cr0nch\", None)"
   ]
  },
  {
   "cell_type": "markdown",
   "metadata": {},
   "source": [
    "# Basic Player Config"
   ]
  },
  {
   "cell_type": "code",
   "execution_count": 2,
   "metadata": {},
   "outputs": [],
   "source": [
    "#class YourFirstAgent(Player):\n",
    "#    def choose_move(self, battle):\n",
    "#        for move in battle.available_moves:\n",
    "#            if move.base_power > 90:\n",
    "#                # A powerful move! Let's use it\n",
    "#                return self.create_order(move)\n",
    "\n",
    "        # No available move? Let's switch then!\n",
    "#        for switch in battle.available_switches:\n",
    "#            if switch.current_hp_fraction > battle.active_pokemon.current_hp_fraction:\n",
    "#                # This other pokemon has more HP left... Let's switch it in?\n",
    "#                return self.create_order(switch)\n",
    "\n",
    "        # Not sure what to do?\n",
    "#        return self.choose_random_move(battle)"
   ]
  },
  {
   "cell_type": "code",
   "execution_count": 3,
   "metadata": {},
   "outputs": [],
   "source": [
    "### MAX DAMAGE PLAYER\n",
    "\n",
    "class MaxDamagePlayer(Player):\n",
    "    def choose_move(self, battle):\n",
    "        if battle.available_moves:\n",
    "            best = max(battle.available_moves, key = lambda move: move.base_power)\n",
    "            return self.create_order(best)\n",
    "        else: return self.choose_random_move(battle)"
   ]
  },
  {
   "cell_type": "code",
   "execution_count": 5,
   "metadata": {},
   "outputs": [
    {
     "name": "stdout",
     "output_type": "stream",
     "text": [
      "Max agent won 5 / 10 battles, time taken = 3.544502\n"
     ]
    }
   ],
   "source": [
    "async def main():\n",
    "    start = time.time()\n",
    "    \n",
    "    #Create Two Players\n",
    "    \n",
    "    random_player = MaxDamagePlayer(battle_format = \"gen8randombattle\",)\n",
    "    \n",
    "    max_damage_player = MaxDamagePlayer(battle_format = \"gen8randombattle\",)\n",
    "    \n",
    "    # EVAULUATE AGENTS\n",
    "    await max_damage_player.battle_against(random_player, n_battles = 10)\n",
    "    \n",
    "    print(\"Max agent won %d / 10 battles, time taken = %f\" %(max_damage_player.n_won_battles, time.time() - start))\n",
    "\n",
    "    \n",
    "if __name__ == \"__main__\":\n",
    "    asyncio.get_event_loop().run_until_complete(main())"
   ]
  },
  {
   "cell_type": "code",
   "execution_count": null,
   "metadata": {},
   "outputs": [],
   "source": []
  }
 ],
 "metadata": {
  "kernelspec": {
   "display_name": "Python 3",
   "language": "python",
   "name": "python3"
  },
  "language_info": {
   "codemirror_mode": {
    "name": "ipython",
    "version": 3
   },
   "file_extension": ".py",
   "mimetype": "text/x-python",
   "name": "python",
   "nbconvert_exporter": "python",
   "pygments_lexer": "ipython3",
   "version": "3.8.3"
  }
 },
 "nbformat": 4,
 "nbformat_minor": 4
}
