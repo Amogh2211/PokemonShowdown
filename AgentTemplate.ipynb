{
 "cells": [
  {
   "cell_type": "code",
   "execution_count": null,
   "metadata": {},
   "outputs": [],
   "source": [
    "class AgentName(Player):\n",
    "    def choose_move(self,battle):\n",
    "        # Choose attack/status/non-attack move\n",
    "        for move in battle.available_moves:\n",
    "            return self.create_order(move)\n",
    "            pass\n",
    "            \n",
    "        # Choose to switch out\n",
    "        \n",
    "        for switch in battle_available_switches:\n",
    "            return self.create_order(switch)\n",
    "        \n",
    "        return self.choose_ramdom_move(battle)\n",
    "    \n",
    "    \n",
    "    # Refer class SimpleRLPlayer() from Project.ipynb"
   ]
  }
 ],
 "metadata": {
  "kernelspec": {
   "display_name": "Python 3",
   "language": "python",
   "name": "python3"
  },
  "language_info": {
   "codemirror_mode": {
    "name": "ipython",
    "version": 3
   },
   "file_extension": ".py",
   "mimetype": "text/x-python",
   "name": "python",
   "nbconvert_exporter": "python",
   "pygments_lexer": "ipython3",
   "version": "3.8.3"
  }
 },
 "nbformat": 4,
 "nbformat_minor": 4
}
